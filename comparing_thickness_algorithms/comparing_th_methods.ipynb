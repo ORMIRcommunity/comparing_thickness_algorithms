{
 "cells": [
  {
   "cell_type": "markdown",
   "id": "2502335e-87c2-432b-a368-522e3598f3b4",
   "metadata": {},
   "source": [
    "<img src=\"https://raw.githubusercontent.com/ORMIRcommunity/templates/main/images/logo_notebook.png\" alt=\"ormir_logo\" width=\"700\" >"
   ]
  },
  {
   "cell_type": "markdown",
   "id": "65a33287",
   "metadata": {
    "jp-MarkdownHeadingCollapsed": true,
    "tags": []
   },
   "source": [
    "# Comparing methods to calculate thickness using synthetic data\n",
    "\n",
    "- By: [Serena Bonaretti](https://sbonaretti.github.io/), [Nathan Neeteson](https://www.linkedin.com/in/nathan-neeteson-6691545b/?originalSubdomain=ca), [Sarah Manske](https://cumming.ucalgary.ca/departments/radiology/profiles/sarah-manske), started December 23, 2022 \n",
    "- Code license: GNU-GPL v3\n",
    "- Narrative license: CC-BY-NC-SA\n",
    "- How to cite: *TBD*"
   ]
  },
  {
   "cell_type": "markdown",
   "id": "71ad1220-30b7-4cf7-b5c5-6980a46c2426",
   "metadata": {
    "tags": []
   },
   "source": [
    "---\n",
    "# Aims\n",
    "\n",
    "- In this notebook, we aim to compare various methods for thickness calculation using toy examples. Specifically:  \n",
    "  [1. Creating shapes](#shapes): Creating binary images containing shapes that are simplified representations of bone and/or cartilage anatomy, and chaining the images in a 4D numpy array  \n",
    "  [2. Computing thickness](#compute_th): Looping through the 4D array to calculate thickness using different methods   \n",
    "  [3. Comparing thickness](#compare_th): Collecting thicknesses in a pandas dataframe for comparison     "
   ]
  },
  {
   "cell_type": "markdown",
   "id": "87708e3c-3e69-4249-9c5a-c5bf65247167",
   "metadata": {},
   "source": [
    "- Notes about shapes:\n",
    "  1. Each shape represents a bone anatomy/tissue:\n",
    "  |Shape |Anatomy |\n",
    "  |---|---|\n",
    "  |hollow sphere| cortical bone in femoral head\n",
    "  |hollow cylinder|cortical bone in a shaft (half cylinder cut along vertical axis could be femoral cartilage)| \n",
    "  |full cylinder | trabecular rod|\n",
    "  |short full cylinder | subchondral bone in proximal tibia / tibial cartilage|\n",
    "  |plate | trabecular plate|\n",
    "\n",
    "  2. Nearly all shapes are **fully contained in the image matrix**, that is, they do not intersect the image boundaries. This is because the minimum of the local thickness field will always be less than the actual thickness of the structure if the mask intersects the boundaries of the image, because at those corners at the image boundary the spheres that fit get smaller (Issue discussed in the paper 1997_Hildebrand [[1]](#1)):\n",
    "  ![](figures/1997_hildebrand.png)\n",
    "\n",
    "  3. There are currently 5 shapes with **fixed radius**. In the next steps, we can add more shapes with changing dimensions, or less regular shapes (e.g. shape composed of 2 cylinders next to each other, each with with a different radius)"
   ]
  },
  {
   "cell_type": "markdown",
   "id": "9a66d043-24d0-4015-b5d2-a3f459484982",
   "metadata": {},
   "source": [
    "---"
   ]
  },
  {
   "cell_type": "markdown",
   "id": "af9b9773-247c-4236-9bf1-749b5a977147",
   "metadata": {},
   "source": [
    "- Downloads and installations (to be executed only the first time):"
   ]
  },
  {
   "cell_type": "markdown",
   "id": "d1d1263b-aafd-4b19-949a-347b4302c2a6",
   "metadata": {},
   "source": [
    "- Downloading the `main` branch from `ORMIR_XCT`:  "
   ]
  },
  {
   "cell_type": "code",
   "execution_count": 1,
   "id": "80d9986e-8603-401e-a4e6-12a807be3c45",
   "metadata": {},
   "outputs": [],
   "source": [
    "# !# clone the folder locally\n",
    "# !git clone -b main https://github.com/SpectraCollab/ORMIR_XCT.git\n",
    "# !# change folder name by adding branch name as suffix\n",
    "# !mv ORMIR_XCT ORMIR_XCT_main\n",
    "# renaming internal folder to import the function calc_structure_thickness_statistics from the correct branch\n",
    "# ! mv ORMIR_XCT_main/ormir_xct ORMIR_XCT_main/ormir_xct_main"
   ]
  },
  {
   "cell_type": "markdown",
   "id": "152bc6c5-4296-43f2-bee9-0a053aadef3f",
   "metadata": {},
   "source": [
    "- Downloading the `nathan/fix-dt-maybe` branch from `ORMIR_XCT`:  "
   ]
  },
  {
   "cell_type": "code",
   "execution_count": 2,
   "id": "5e4a63ee-b965-4381-af1b-ef7ce461526a",
   "metadata": {},
   "outputs": [],
   "source": [
    "# !# clone the folder locally\n",
    "# !git clone -b nathan/fix-dt-maybe --single-branch https://github.com/SpectraCollab/ORMIR_XCT.git\n",
    "# !# change folder name by adding branch name as suffix\n",
    "# !mv ORMIR_XCT ORMIR_XCT_fix-dt-maybe\n",
    "# renaming internal folder to import the function calc_structure_thickness_statistics from the correct branch\n",
    "# ! mv ORMIR_XCT_fix-dt-maybe/ormir_xct ORMIR_XCT_fix-dt-maybe/ormir_xct_fix_dt_maybe"
   ]
  },
  {
   "cell_type": "markdown",
   "id": "c4fcf183-8751-408c-845c-a76cef1fbeee",
   "metadata": {},
   "source": [
    "- Installing `ITKBoneMorphometry`:"
   ]
  },
  {
   "cell_type": "code",
   "execution_count": 3,
   "id": "641d0e23-6ea9-4a73-a1c2-bb64eb2df20b",
   "metadata": {},
   "outputs": [],
   "source": [
    "# ! pip install --upgrade pip\n",
    "# ! pip install itk-bonemorphometry"
   ]
  },
  {
   "cell_type": "markdown",
   "id": "cad68259",
   "metadata": {},
   "source": [
    "---"
   ]
  },
  {
   "cell_type": "markdown",
   "id": "96c5bb15",
   "metadata": {},
   "source": [
    "- Imports: "
   ]
  },
  {
   "cell_type": "code",
   "execution_count": 4,
   "id": "4c9e8f26",
   "metadata": {},
   "outputs": [],
   "source": [
    "import sys\n",
    "import numpy as np\n",
    "from matplotlib import pyplot as plt\n",
    "import pandas as pd\n",
    "\n",
    "import SimpleITK as sitk\n",
    "import itk "
   ]
  },
  {
   "cell_type": "markdown",
   "id": "02887d79-9c07-4c10-b339-685661b7c9b8",
   "metadata": {},
   "source": [
    "- Importing functions from code from `ORMIR_XCT_main` and `ORMIR_XCT_fix-dt-maybe`:"
   ]
  },
  {
   "cell_type": "code",
   "execution_count": 5,
   "id": "26ffb42f-2d23-486f-8758-037b5d0eb349",
   "metadata": {},
   "outputs": [],
   "source": [
    "sys.path.append(\"./ORMIR_XCT_main\")\n",
    "from ormir_xct_main.util.hildebrand_thickness import (\n",
    "    calc_structure_thickness_statistics as main_calc_structure_thickness_statistics\n",
    ")"
   ]
  },
  {
   "cell_type": "code",
   "execution_count": 6,
   "id": "63e72923-de18-4117-9213-128fbd074eba",
   "metadata": {},
   "outputs": [],
   "source": [
    "sys.path.append(\"./ORMIR_XCT_fix-dt-maybe\")\n",
    "from ormir_xct_fix_dt_maybe.util.hildebrand_thickness import ( \n",
    "    calc_structure_thickness_statistics as branch_calc_structure_thickness_statistics\n",
    ")"
   ]
  },
  {
   "cell_type": "markdown",
   "id": "15494bf1",
   "metadata": {},
   "source": [
    "- Functions:"
   ]
  },
  {
   "cell_type": "code",
   "execution_count": 7,
   "id": "d68715d5-f9bf-4d8a-a29e-f0ffb9d58e64",
   "metadata": {},
   "outputs": [],
   "source": [
    "def create_shape(shape, voxel_widths, thickness, shape_type=\"sphere\"):\n",
    "    \n",
    "    \"\"\"\n",
    "    Given image size, voxel size, figure thickness, and  type of shape, it returns a binary image with the input characteristics  \n",
    "    This function is from the notebook: https://github.com/SpectraCollab/ORMIR_XCT/blob/main/examples/hildebrand_notebook.ipynb\n",
    "\n",
    "    Parameters\n",
    "    ----------\n",
    "    shape: tuple\n",
    "        Contains three numbers corresponding to image size (e.g. (25,25,25)). Unit it voxel\n",
    "    voxel_widths: tuple\n",
    "        Contains three numbers corresponding to voxel size (e.g. (0.0607, 0.0607, 0.0607) for HR-pQCT)\n",
    "    thickness: integer\n",
    "        Thickness of the figure (e.g. sphere or cylinder radius)\n",
    "    shape_type: string\n",
    "        It can be sphere, cylinder, plate\n",
    "        \n",
    "        \n",
    "    Returns \n",
    "    -------\n",
    "    mask: 3D numpy array\n",
    "        Binary image where the shape is represented by 1s and the background by 0s\n",
    "    \"\"\"\n",
    "    \n",
    "    center = (\n",
    "        voxel_widths[0] * (shape[0] // 2), \n",
    "        voxel_widths[1] * (shape[1] // 2), \n",
    "        voxel_widths[2] * (shape[2] // 2)\n",
    "    )\n",
    "    \n",
    "    x, y, z = np.meshgrid(*[voxel_widths[i] * np.arange(0, shape[i]) for i in range(3)], indexing=\"ij\")\n",
    "    if shape_type == \"sphere\":\n",
    "        mask = (((x-center[0])**2 + (y-center[1])**2 + (z-center[2])**2) < (thickness/2)**2).astype(int)\n",
    "    elif shape_type == \"cylinder\":\n",
    "        mask = (((x-center[0])**2 + (y-center[1])**2) < (thickness/2)**2).astype(int)\n",
    "    elif shape_type == \"plate\":\n",
    "        mask = (np.abs(x-center[0]) < thickness/2).astype(int)\n",
    "    else:\n",
    "        raise ValueError(f\"`shape_type` can be `sphere`, `cylinder`, `plate`; got {shape_type}\")\n",
    "    return mask\n"
   ]
  },
  {
   "cell_type": "code",
   "execution_count": 8,
   "id": "44d0ff85-b25b-40e2-b856-9c4b202b7e41",
   "metadata": {},
   "outputs": [],
   "source": [
    "def show_shape(img):\n",
    "    \n",
    "    \"\"\"\n",
    "    Given a 3D array, it imshows each slice using matplotlib\n",
    "    \n",
    "    Parameters\n",
    "    ----------\n",
    "    img: 3D numpy array\n",
    "        Image to be shown\n",
    "    \"\"\"\n",
    "    \n",
    "    plt.rcParams['figure.figsize'] = [30, 2]\n",
    "    fig, ax = plt.subplots(1, int(img.shape[2]/2)+1)\n",
    "    \n",
    "    # plot the first half\n",
    "    for i in range (0, int(img.shape[2]/2)+1):\n",
    "        # leave the last plot empty\n",
    "        if i == int(img.shape[2]/2):\n",
    "            ax[i].axis(\"off\");\n",
    "        else:\n",
    "            ax[i].imshow(img[:,:,i], \"gray\"); ax[i].axis(\"off\"); ax[i].set_title(\"slice \" + str(i))\n",
    "    # plot the second half\n",
    "    fig, ax = plt.subplots(1, int(img.shape[2]/2)+1)\n",
    "    for i in range (int(img.shape[2]/2), img.shape[2]):\n",
    "        ax[i-int(img.shape[2]/2)].imshow(img[:,:,i], \"gray\"); ax[i-int(img.shape[2]/2)].axis(\"off\"); ax[i-int(img.shape[2]/2)].set_title(\"slice \" + str(i))\n",
    "    "
   ]
  },
  {
   "cell_type": "markdown",
   "id": "aa7226b3",
   "metadata": {},
   "source": [
    "- Variables and constants:"
   ]
  },
  {
   "cell_type": "code",
   "execution_count": 9,
   "id": "ed248244",
   "metadata": {},
   "outputs": [],
   "source": [
    "# image dimension and spacing\n",
    "IMAGE_SHAPE = tuple([25]*3) # image size\n",
    "VOXEL_WIDTH = tuple([1]*3) # spacing 1x1x1 for simplicity\n",
    "\n",
    "outer_radius = 17\n",
    "inner_radius = 15"
   ]
  },
  {
   "cell_type": "markdown",
   "id": "0758af7e",
   "metadata": {
    "tags": []
   },
   "source": [
    "---\n",
    "<a name=\"shapes\"></a>\n",
    "## 1. Creating shapes\n",
    "\n",
    "### 1.1 Hollow sphere \n",
    "\n",
    "- Model of **cortical bone** in a **femoral head**"
   ]
  },
  {
   "cell_type": "code",
   "execution_count": 10,
   "id": "3fd21009",
   "metadata": {},
   "outputs": [
    {
     "data": {
      "image/png": "[encoded data removed]",
      "text/plain": [
       "<Figure size 3000x200 with 13 Axes>"
      ]
     },
     "metadata": {},
     "output_type": "display_data"
    },
    {
     "data": {
      "image/png": "[encoded data removed]",
      "text/plain": [
       "<Figure size 3000x200 with 13 Axes>"
      ]
     },
     "metadata": {},
     "output_type": "display_data"
    }
   ],
   "source": [
    "# creating a hollow sphere as the difference between a larger outer sphere and a smaller inner sphere\n",
    "outer_sphere  = create_shape(IMAGE_SHAPE, VOXEL_WIDTH, outer_radius, shape_type=\"sphere\")\n",
    "inner_sphere  = create_shape(IMAGE_SHAPE, VOXEL_WIDTH, inner_radius, shape_type=\"sphere\")\n",
    "hollow_sphere = outer_sphere - inner_sphere\n",
    "\n",
    "show_shape (hollow_sphere)"
   ]
  },
  {
   "cell_type": "markdown",
   "id": "4f6d5c3f-a61c-4064-90d9-1cf8360ee8e8",
   "metadata": {
    "tags": []
   },
   "source": [
    "### 1.2 Hollow cylinder \n",
    "\n",
    "- Model of **cortical bone** in a **shaft**. Half cylinder cut along the axis can be the model of **femoral cartilage** \n",
    "- Note: The cylinder occupies the whole image, that is, the image has no black padding at the top nor bottom"
   ]
  },
  {
   "cell_type": "code",
   "execution_count": 11,
   "id": "d60e7138-91f0-4f12-a079-c4da1c063bbb",
   "metadata": {},
   "outputs": [
    {
     "data": {
      "image/png": "[encoded data removed]",
      "text/plain": [
       "<Figure size 3000x200 with 13 Axes>"
      ]
     },
     "metadata": {},
     "output_type": "display_data"
    },
    {
     "data": {
      "image/png": "[encoded data removed]",
      "text/plain": [
       "<Figure size 3000x200 with 13 Axes>"
      ]
     },
     "metadata": {},
     "output_type": "display_data"
    }
   ],
   "source": [
    "# creating a hollow cylinder as the difference between a larger outer cylinder and a smaller inner cylinder\n",
    "outer_cylinder  = create_shape(IMAGE_SHAPE, VOXEL_WIDTH, outer_radius, shape_type=\"cylinder\")\n",
    "inner_cylinder  = create_shape(IMAGE_SHAPE, VOXEL_WIDTH, inner_radius, shape_type=\"cylinder\")\n",
    "hollow_cylinder = outer_cylinder - inner_cylinder\n",
    "\n",
    "show_shape (hollow_cylinder)"
   ]
  },
  {
   "cell_type": "markdown",
   "id": "27658fd6-fb08-4155-ab93-4ea41033364e",
   "metadata": {
    "tags": []
   },
   "source": [
    "### 1.3 Full cylinder\n",
    "\n",
    "- Model of a **trabecular rod**\n",
    "- Note: The cylinder is fully contained in the image"
   ]
  },
  {
   "cell_type": "code",
   "execution_count": 12,
   "id": "2934a025-00d6-4241-9845-81d4cc519701",
   "metadata": {},
   "outputs": [
    {
     "data": {
      "image/png": "[encoded data removed]",
      "text/plain": [
       "<Figure size 3000x200 with 13 Axes>"
      ]
     },
     "metadata": {},
     "output_type": "display_data"
    },
    {
     "data": {
      "image/png": "[encoded data removed]",
      "text/plain": [
       "<Figure size 3000x200 with 13 Axes>"
      ]
     },
     "metadata": {},
     "output_type": "display_data"
    }
   ],
   "source": [
    "full_cylinder  = create_shape(IMAGE_SHAPE, VOXEL_WIDTH, outer_radius, shape_type=\"cylinder\")\n",
    "# make first and last slice black\n",
    "full_cylinder[:,:,0] = np.zeros((full_cylinder.shape[0], full_cylinder.shape[1]))\n",
    "full_cylinder[:,:,-1] = np.zeros((full_cylinder.shape[0], full_cylinder.shape[1]))\n",
    "\n",
    "show_shape (full_cylinder)"
   ]
  },
  {
   "cell_type": "code",
   "execution_count": 13,
   "id": "13c278ba-cdf1-4b5b-a007-d34369b27920",
   "metadata": {},
   "outputs": [],
   "source": [
    "# # to calculate the number of pixels in the full cylinder\n",
    "# plt.rcParams['figure.figsize'] = [5, 5]\n",
    "# plt.imshow(full_cylinder[:,:,3])\n",
    "# start = 3\n",
    "# for i in range (start, 20):\n",
    "#     plt.axvline(x = i+0.5, color = 'r')\n",
    "#     plt.annotate(i-start+1, xy=(i+0.5, 3), color = \"w\", fontsize = 9 )"
   ]
  },
  {
   "cell_type": "markdown",
   "id": "a6fe62c7-ccd8-4275-947d-761a8d4dd600",
   "metadata": {
    "tags": []
   },
   "source": [
    "### 1.4 Short full cylinder \n",
    "\n",
    "- Model of cropped **subchondral bone in distal femur / proximal tibia** or of **tibial cartilage**"
   ]
  },
  {
   "cell_type": "code",
   "execution_count": 14,
   "id": "b7cdd2dd-2d4a-40c2-9ac1-b48d0bf18632",
   "metadata": {},
   "outputs": [
    {
     "data": {
      "image/png": "[encoded data removed]",
      "text/plain": [
       "<Figure size 3000x200 with 13 Axes>"
      ]
     },
     "metadata": {},
     "output_type": "display_data"
    },
    {
     "data": {
      "image/png": "[encoded data removed]",
      "text/plain": [
       "<Figure size 3000x200 with 13 Axes>"
      ]
     },
     "metadata": {},
     "output_type": "display_data"
    }
   ],
   "source": [
    "short_cylinder  = create_shape(IMAGE_SHAPE, VOXEL_WIDTH, outer_radius, shape_type=\"cylinder\")\n",
    "# make first and last slice black\n",
    "padding = 10\n",
    "short_cylinder[:,:,0:padding] = np.zeros((short_cylinder.shape[0], short_cylinder.shape[1], padding))\n",
    "short_cylinder[:,:,short_cylinder.shape[2]-padding:] = np.zeros((short_cylinder.shape[0], short_cylinder.shape[1], padding))\n",
    "\n",
    "show_shape (short_cylinder)"
   ]
  },
  {
   "cell_type": "markdown",
   "id": "575e62f1-899a-4161-a3a6-fa482545cb96",
   "metadata": {
    "tags": []
   },
   "source": [
    "### 1.5 Plate \n",
    "\n",
    "- Model of **trabecular plate**"
   ]
  },
  {
   "cell_type": "code",
   "execution_count": 15,
   "id": "508d31d9-31e6-401b-adbd-fc839b75f1b0",
   "metadata": {},
   "outputs": [
    {
     "data": {
      "image/png": "[encoded data removed]",
      "text/plain": [
       "<Figure size 3000x200 with 13 Axes>"
      ]
     },
     "metadata": {},
     "output_type": "display_data"
    },
    {
     "data": {
      "image/png": "[encoded data removed]",
      "text/plain": [
       "<Figure size 3000x200 with 13 Axes>"
      ]
     },
     "metadata": {},
     "output_type": "display_data"
    }
   ],
   "source": [
    "plate  = create_shape(IMAGE_SHAPE, VOXEL_WIDTH, 8, shape_type=\"plate\")\n",
    "\n",
    "# padding to include the whole plate in the figure\n",
    "padding = 11\n",
    "plate[:,:,0:padding] = np.zeros((plate.shape[0], plate.shape[1], padding))\n",
    "plate[:,:,plate.shape[2]-padding:] = np.zeros((plate.shape[0], plate.shape[1], padding))\n",
    "plate[:,0,:] = np.zeros((plate.shape[0], plate.shape[1]))\n",
    "plate[:,-1,:] = np.zeros((plate.shape[0], plate.shape[1]))\n",
    "\n",
    "show_shape (plate)"
   ]
  },
  {
   "cell_type": "markdown",
   "id": "ebf41621-0d73-48d3-ba04-83ad2fd5c475",
   "metadata": {},
   "source": [
    "- Combining shapes into a numpy tensor for the following for loop:"
   ]
  },
  {
   "cell_type": "code",
   "execution_count": 16,
   "id": "6f25580a-08ca-4f9d-9bc2-a38464f5e6c2",
   "metadata": {},
   "outputs": [
    {
     "name": "stdout",
     "output_type": "stream",
     "text": [
      "The dimensions of the tensor are: (25, 25, 25, 5)\n"
     ]
    }
   ],
   "source": [
    "shapes = np.stack((hollow_sphere, hollow_cylinder, full_cylinder, short_cylinder, plate), axis=3)\n",
    "print (\"The dimensions of the tensor are: \" + str(shapes.shape))"
   ]
  },
  {
   "cell_type": "markdown",
   "id": "b785daea-a239-41d9-8938-2657c71696ab",
   "metadata": {},
   "source": [
    "---\n",
    "<a name=\"compute_th\"></a>\n",
    "## 2. Computing thickness"
   ]
  },
  {
   "cell_type": "markdown",
   "id": "ea54a800-5dea-42a7-8b35-674399440232",
   "metadata": {},
   "source": [
    "- Methods:\n",
    "  - ormir_xct main branch: https://github.com/SpectraCollab/ORMIR_XCT  \n",
    "    It uses the SimpleITK Meurer transform  \n",
    "  - ormir fix-dt-maybe branch: https://github.com/SpectraCollab/ORMIR_XCT/blob/nathan/fix-dt-maybe/ormir_xct/util/hildebrand_thickness.py\n",
    "    It oversamples the mask, uses the Euclidean DT from Scipy, then downsamples to the original resolution\n",
    "  - ITK Bone morphology [[2]](#2): https://github.com/InsightSoftwareConsortium/ITKBoneMorphometry"
   ]
  },
  {
   "cell_type": "code",
   "execution_count": 17,
   "id": "2941d50a-0f36-4140-98e2-6932bec4d65f",
   "metadata": {},
   "outputs": [],
   "source": [
    "# initializing dictionary containing statistics for each metric. It will become the pandas dataframe\n",
    "thicknesses = {}\n",
    "\n",
    "# for each shape in the 4D array    \n",
    "for i in range (0,(shapes.shape[3])):\n",
    "    \n",
    "    # extract the current shape\n",
    "    shape = shapes[:,:,:,i]\n",
    "    \n",
    "    # --- ORMIR_XCT_main ---\n",
    "    thickness_stats = main_calc_structure_thickness_statistics(shape, (1,1,1), 1)\n",
    "    thicknesses[\"ormir_xct_main\"] = thicknesses.get(\"ormir_xct_main\", []) + [thickness_stats[0]]\n",
    "    # thicknesses[\"ormir_xct_main_std\"] = thicknesses.get(\"ormir_xct_main_std\",   []) + [thickness_stats[1]]\n",
    "    # thicknesses[\"ormir_xct_main_min\"] = thicknesses.get(\"ormir_xct_main_min\",   []) + [thickness_stats[2]]\n",
    "    # thicknesses[\"ormir_xct_main_max\"] = thicknesses.get(\"ormir_xct_main_max\",   []) + [thickness_stats[3]]\n",
    "\n",
    "    # --- ORMIR_XCT_branch  ---\n",
    "    thickness_stats = branch_calc_structure_thickness_statistics(shape, (1,1,1), 1)\n",
    "    thicknesses[\"ormir_xct_branch\"] = thicknesses.get(\"ormir_xct_branch\", []) + [thickness_stats[0]]\n",
    "    # thicknesses[\"ormir_xct_branch_std\"] = thicknesses.get(\"ormir_xct_branch_std\",   []) + [thickness_stats[1]]\n",
    "    # thicknesses[\"ormir_xct_branch_min\"] = thicknesses.get(\"ormir_xct_branch_min\",   []) + [thickness_stats[2]]\n",
    "    # thicknesses[\"ormir_xct_branch_max\"] = thicknesses.get(\"ormir_xct_branch_max\",   []) + [thickness_stats[3]]\n",
    "    \n",
    "    # --- ITKBoneMorphometry  ---\n",
    "    shape = shape.astype(np.int32) # not sure about this and the following datatype conversions, but it works\n",
    "    filtr = itk.BoneMorphometryFeaturesFilter.New(itk.GetImageFromArray(shape).astype(itk.UC)) #itk.UC == np.uint8 \n",
    "    filtr.SetMaskImage(itk.GetImageFromArray(shape).astype(itk.UC))\n",
    "    filtr.SetThreshold(1)\n",
    "    filtr.Update()\n",
    "    thickness = filtr.GetTbTh()\n",
    "    thicknesses[\"itk_bone_morphometry\"] = thicknesses.get(\"itk_bone_morphometry\", []) + [thickness]\n"
   ]
  },
  {
   "cell_type": "markdown",
   "id": "b705e87a-a3cf-4ea0-b433-e5d8b6a46b4e",
   "metadata": {},
   "source": [
    "---\n",
    "<a name=\"compare_th\"></a>\n",
    "## 3. Comparing thickness"
   ]
  },
  {
   "cell_type": "code",
   "execution_count": 18,
   "id": "cae68af4-01bb-4d54-a85f-bd3f9bb87aa7",
   "metadata": {},
   "outputs": [
    {
     "name": "stdout",
     "output_type": "stream",
     "text": [
      "-> The following are mean values: \n"
     ]
    },
    {
     "data": {
      "text/html": [
       "<div>\n",
       "<style scoped>\n",
       "    .dataframe tbody tr th:only-of-type {\n",
       "        vertical-align: middle;\n",
       "    }\n",
       "\n",
       "    .dataframe tbody tr th {\n",
       "        vertical-align: top;\n",
       "    }\n",
       "\n",
       "    .dataframe thead th {\n",
       "        text-align: right;\n",
       "    }\n",
       "</style>\n",
       "<table border=\"1\" class=\"dataframe\">\n",
       "  <thead>\n",
       "    <tr style=\"text-align: right;\">\n",
       "      <th></th>\n",
       "      <th>expected</th>\n",
       "      <th>IPL</th>\n",
       "      <th>ormir_xct_main</th>\n",
       "      <th>ormir_xct_branch</th>\n",
       "      <th>itk_bone_morphometry</th>\n",
       "    </tr>\n",
       "  </thead>\n",
       "  <tbody>\n",
       "    <tr>\n",
       "      <th>hollow sphere</th>\n",
       "      <td>1.0</td>\n",
       "      <td>2.0</td>\n",
       "      <td>2.00</td>\n",
       "      <td>1.00</td>\n",
       "      <td>0.95</td>\n",
       "    </tr>\n",
       "    <tr>\n",
       "      <th>hollow cylinder</th>\n",
       "      <td>1.0</td>\n",
       "      <td>2.0</td>\n",
       "      <td>2.00</td>\n",
       "      <td>1.00</td>\n",
       "      <td>1.09</td>\n",
       "    </tr>\n",
       "    <tr>\n",
       "      <th>full cylinder</th>\n",
       "      <td>17.0</td>\n",
       "      <td>16.0</td>\n",
       "      <td>15.69</td>\n",
       "      <td>13.20</td>\n",
       "      <td>7.71</td>\n",
       "    </tr>\n",
       "    <tr>\n",
       "      <th>short full cylinder</th>\n",
       "      <td>5.0</td>\n",
       "      <td>5.0</td>\n",
       "      <td>5.82</td>\n",
       "      <td>4.63</td>\n",
       "      <td>4.27</td>\n",
       "    </tr>\n",
       "    <tr>\n",
       "      <th>plate</th>\n",
       "      <td>3.0</td>\n",
       "      <td>3.0</td>\n",
       "      <td>4.00</td>\n",
       "      <td>2.98</td>\n",
       "      <td>2.89</td>\n",
       "    </tr>\n",
       "  </tbody>\n",
       "</table>\n",
       "</div>"
      ],
      "text/plain": [
       "                     expected   IPL  ormir_xct_main  ormir_xct_branch  \\\n",
       "hollow sphere             1.0   2.0            2.00              1.00   \n",
       "hollow cylinder           1.0   2.0            2.00              1.00   \n",
       "full cylinder            17.0  16.0           15.69             13.20   \n",
       "short full cylinder       5.0   5.0            5.82              4.63   \n",
       "plate                     3.0   3.0            4.00              2.98   \n",
       "\n",
       "                     itk_bone_morphometry  \n",
       "hollow sphere                        0.95  \n",
       "hollow cylinder                      1.09  \n",
       "full cylinder                        7.71  \n",
       "short full cylinder                  4.27  \n",
       "plate                                2.89  "
      ]
     },
     "execution_count": 18,
     "metadata": {},
     "output_type": "execute_result"
    }
   ],
   "source": [
    "# create dataframe from dictionary of thicknesses\n",
    "df = pd.DataFrame (thicknesses)\n",
    "\n",
    "# change the row names\n",
    "shape_names = [\"hollow sphere\", \"hollow cylinder\", \"full cylinder\", \"short full cylinder\", \"plate\"]\n",
    "df.index = shape_names\n",
    "\n",
    "# expected values \n",
    "expected_values = [1.00, 1.00, 17.00, 5.00, 3.00]\n",
    "df.insert(0, \"expected\", expected_values, True)\n",
    "# expected IPL values (manually inserted because separately calculated)\n",
    "ipl_values = [2.0000, 2.0000, 16, 5, 3]\n",
    "df.insert(1, \"IPL\", ipl_values, True)\n",
    "\n",
    "# show table\n",
    "print (\"-> The following are mean values: \")\n",
    "df= df.round(decimals=2) # show only 2 decimals\n",
    "df"
   ]
  },
  {
   "cell_type": "markdown",
   "id": "2e665546",
   "metadata": {},
   "source": [
    "---\n",
    "## Dependencies\n"
   ]
  },
  {
   "cell_type": "code",
   "execution_count": 19,
   "id": "f99ecf6f",
   "metadata": {},
   "outputs": [
    {
     "name": "stdout",
     "output_type": "stream",
     "text": [
      "Last updated: 2023-01-20T09:47:21.556276+01:00\n",
      "\n",
      "Python implementation: CPython\n",
      "Python version       : 3.9.13\n",
      "IPython version      : 7.31.1\n",
      "\n",
      "Compiler    : Clang 12.0.0 \n",
      "OS          : Darwin\n",
      "Release     : 21.1.0\n",
      "Machine     : x86_64\n",
      "Processor   : i386\n",
      "CPU cores   : 8\n",
      "Architecture: 64bit\n",
      "\n",
      "matplotlib: 3.5.2\n",
      "pandas    : 1.4.4\n",
      "SimpleITK : 2.2.1\n",
      "sys       : 3.9.13 (main, Aug 25 2022, 18:29:29) \n",
      "[Clang 12.0.0 ]\n",
      "numpy     : 1.21.5\n",
      "itk       : 5.3.0\n",
      "\n"
     ]
    }
   ],
   "source": [
    "%load_ext watermark\n",
    "\n",
    "%watermark\n",
    "%watermark --iversions"
   ]
  },
  {
   "cell_type": "markdown",
   "id": "ded7beea",
   "metadata": {
    "tags": []
   },
   "source": [
    "---\n",
    "<a name=\"ref\"></a>\n",
    "## References\n",
    "\n",
    "<a name=\"1\"></a>\n",
    "1. Hildebrand T. and Rüegsegger P. [A new method for the model‐independent assessment of thickness in three‐dimensional images](https://doi.org/10.1046/j.1365-2818.1997.1340694.x). Journal of microscopy 185.1 (1997): 67-75.  \n",
    "<a name=\"2\"></a>\n",
    "2. Vimort J., McCormick M., Paniagua B. [Computing Bone Morphometric Feature Maps from 3-Dimensional Images](https://www.insight-journal.org/browse/publication/988). The Insight Journal. January-December. 2017."
   ]
  },
  {
   "cell_type": "markdown",
   "id": "745aeeb2-293f-4de8-aa54-acb483c2dee1",
   "metadata": {},
   "source": [
    "Notebook created using the [ORMIR community](https://ormircommunity.github.io/) template (version 1.0, 2023)"
   ]
  },
  {
   "cell_type": "code",
   "execution_count": null,
   "id": "d072bd9e-24b1-4888-8405-090e93f63d2f",
   "metadata": {},
   "outputs": [],
   "source": []
  }
 ],
 "metadata": {
  "kernelspec": {
   "display_name": "Python 3 (ipykernel)",
   "language": "python",
   "name": "python3"
  },
  "language_info": {
   "codemirror_mode": {
    "name": "ipython",
    "version": 3
   },
   "file_extension": ".py",
   "mimetype": "text/x-python",
   "name": "python",
   "nbconvert_exporter": "python",
   "pygments_lexer": "ipython3",
   "version": "3.9.13"
  }
 },
 "nbformat": 4,
 "nbformat_minor": 5
}
